{
 "cells": [
  {
   "cell_type": "code",
   "execution_count": 1,
   "id": "f129c695-982d-44be-8357-88ebe6fa0a4c",
   "metadata": {},
   "outputs": [],
   "source": [
    "import time"
   ]
  },
  {
   "cell_type": "code",
   "execution_count": 3,
   "id": "0085a704-0383-4e63-80a7-f6b382b1512b",
   "metadata": {},
   "outputs": [
    {
     "data": {
      "text/plain": [
       "[(40, 399, 401),\n",
       " (56, 390, 394),\n",
       " (105, 360, 375),\n",
       " (120, 350, 370),\n",
       " (140, 336, 364),\n",
       " (168, 315, 357),\n",
       " (210, 280, 350),\n",
       " (240, 252, 348)]"
      ]
     },
     "execution_count": 3,
     "metadata": {},
     "output_type": "execute_result"
    }
   ],
   "source": [
    "def find_pythagorean_triples(sum_total):\n",
    "    triples = []\n",
    "    for A in range(1, sum_total // 3):\n",
    "        for B in range(A, (sum_total - A) // 2):\n",
    "            C = sum_total - A - B\n",
    "            if A**2 + B**2 == C**2:\n",
    "                triples.append((A, B, C))\n",
    "    return triples\n",
    "\n",
    "sum_total = 840\n",
    "pythagorean_triples = find_pythagorean_triples(sum_total)\n",
    "\n",
    "pythagorean_triples\n"
   ]
  },
  {
   "cell_type": "code",
   "execution_count": 4,
   "id": "4b33ea88-cc1a-43fb-aac3-852ecd1fa24d",
   "metadata": {},
   "outputs": [
    {
     "data": {
      "text/plain": [
       "8"
      ]
     },
     "execution_count": 4,
     "metadata": {},
     "output_type": "execute_result"
    }
   ],
   "source": [
    "triples = find_pythagorean_triples(840)\n",
    "len(triples)"
   ]
  },
  {
   "cell_type": "code",
   "execution_count": 5,
   "id": "8e13018a-57b2-4706-b183-b692a1236e1e",
   "metadata": {},
   "outputs": [
    {
     "data": {
      "text/plain": [
       "(840, 8, 10.218678600009298)"
      ]
     },
     "execution_count": 5,
     "metadata": {},
     "output_type": "execute_result"
    }
   ],
   "source": [
    "startT = time.perf_counter()\n",
    "\n",
    "def find_pythagorean_triples(sum_total):\n",
    "    triples = []\n",
    "    for A in range(1, sum_total // 3):\n",
    "        for B in range(A, (sum_total - A) // 2):\n",
    "            C = sum_total - A - B\n",
    "            if A**2 + B**2 == C**2:\n",
    "                triples.append((A, B, C))\n",
    "    return triples\n",
    "    \n",
    "maxTriples = 0\n",
    "maxSum = 0\n",
    "for i in range(1000):\n",
    "    triplesCount = 0\n",
    "    triples = find_pythagorean_triples(i)\n",
    "    triplesCount = len(triples)\n",
    "    if triplesCount > maxTriples:\n",
    "        maxTriples = triplesCount\n",
    "        maxSum = i\n",
    "\n",
    "\n",
    "stopT = time.perf_counter()\n",
    "elapsedT = stopT - startT\n",
    "\n",
    "maxSum, maxTriples, elapsedT"
   ]
  },
  {
   "cell_type": "code",
   "execution_count": null,
   "id": "8769de86-8d41-4028-9a5c-29ded914c527",
   "metadata": {},
   "outputs": [],
   "source": []
  }
 ],
 "metadata": {
  "kernelspec": {
   "display_name": "Python 3 (ipykernel)",
   "language": "python",
   "name": "python3"
  },
  "language_info": {
   "codemirror_mode": {
    "name": "ipython",
    "version": 3
   },
   "file_extension": ".py",
   "mimetype": "text/x-python",
   "name": "python",
   "nbconvert_exporter": "python",
   "pygments_lexer": "ipython3",
   "version": "3.12.0"
  },
  "widgets": {
   "application/vnd.jupyter.widget-state+json": {
    "state": {},
    "version_major": 2,
    "version_minor": 0
   }
  }
 },
 "nbformat": 4,
 "nbformat_minor": 5
}
