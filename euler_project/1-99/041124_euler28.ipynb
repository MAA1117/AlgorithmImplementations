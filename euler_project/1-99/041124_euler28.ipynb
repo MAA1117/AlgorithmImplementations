{
 "cells": [
  {
   "cell_type": "code",
   "execution_count": 9,
   "id": "582d08ac",
   "metadata": {},
   "outputs": [],
   "source": [
    "from numpy import *"
   ]
  },
  {
   "cell_type": "code",
   "execution_count": 17,
   "id": "f4824e8f",
   "metadata": {},
   "outputs": [
    {
     "data": {
      "text/plain": [
       "669171001"
      ]
     },
     "execution_count": 17,
     "metadata": {},
     "output_type": "execute_result"
    }
   ],
   "source": [
    "tgt = 1001\n",
    "ans = 1\n",
    "sq_length = 1\n",
    "for n in range(2, tgt//2 + 2):\n",
    "    sq_length += 2\n",
    "    SE_corner = 4*n**2 - 10*n + 7 \n",
    "    psum = SE_corner\n",
    "    for m in range(1, 4): # find the sum of the three other corners\n",
    "        psum += SE_corner + m * (sq_length - 1)\n",
    "    ans += psum\n",
    "\n",
    "ans"
   ]
  }
 ],
 "metadata": {
  "kernelspec": {
   "display_name": "Python 3 (ipykernel)",
   "language": "python",
   "name": "python3"
  },
  "language_info": {
   "codemirror_mode": {
    "name": "ipython",
    "version": 3
   },
   "file_extension": ".py",
   "mimetype": "text/x-python",
   "name": "python",
   "nbconvert_exporter": "python",
   "pygments_lexer": "ipython3",
   "version": "3.12.1"
  },
  "widgets": {
   "application/vnd.jupyter.widget-state+json": {
    "state": {},
    "version_major": 2,
    "version_minor": 0
   }
  }
 },
 "nbformat": 4,
 "nbformat_minor": 5
}
