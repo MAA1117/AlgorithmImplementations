{
 "cells": [
  {
   "cell_type": "code",
   "execution_count": 1,
   "metadata": {},
   "outputs": [],
   "source": [
    "from sympy import *"
   ]
  },
  {
   "cell_type": "code",
   "execution_count": 91,
   "metadata": {},
   "outputs": [
    {
     "name": "stdout",
     "output_type": "stream",
     "text": [
      "[4150, 4151, 54748, 92727, 93084, 194979]\n"
     ]
    },
    {
     "data": {
      "text/plain": [
       "443839"
      ]
     },
     "execution_count": 91,
     "metadata": {},
     "output_type": "execute_result"
    }
   ],
   "source": [
    "# problem 30 - fifth digit powers\n",
    "\n",
    "dcf = []\n",
    "\n",
    "for n in range(2, 1_000_000):\n",
    "    s = str(n)\n",
    "    sm = 0\n",
    "    for char in s:\n",
    "        digit = ord(char) - ord('0')\n",
    "        sm += digit**5\n",
    "    if sm == n:\n",
    "        dcf.append(n)\n",
    "        \n",
    "print(dcf)\n",
    "sum(dcf)\n"
   ]
  },
  {
   "cell_type": "code",
   "execution_count": 92,
   "metadata": {},
   "outputs": [
    {
     "name": "stdout",
     "output_type": "stream",
     "text": [
      "[4396, 5346, 5796, 6952, 7254, 7632, 7852]\n"
     ]
    },
    {
     "data": {
      "text/plain": [
       "45228"
      ]
     },
     "execution_count": 92,
     "metadata": {},
     "output_type": "execute_result"
    }
   ],
   "source": [
    "# problem 32 - pandigital products\n",
    "\n",
    "dcf = set()\n",
    "MXN = int(1e4) # 1e4 turns out to be enough\n",
    "\n",
    "for i in range(MXN):\n",
    "    div_list = proper_divisors(i)\n",
    "    sz = len(div_list)\n",
    "    for n in range(1, sz):\n",
    "        if i in dcf:\n",
    "            break\n",
    "        for m in range(n+1, sz):\n",
    "            if i in dcf:\n",
    "                break\n",
    "            div1 = div_list[n]\n",
    "            div2 = div_list[m]\n",
    "            if div1 * div2 == i:\n",
    "                s = str(div1) + str(div2) + str(i)\n",
    "                if len(s) != 9:\n",
    "                    continue\n",
    "                digits = set()\n",
    "                digits.add(\"0\")\n",
    "                for c in s:\n",
    "                    digits.add(c)\n",
    "                if len(digits) == 10:\n",
    "                    dcf.add(i)\n",
    "                \n",
    "print(sorted(dcf))                \n",
    "sum(dcf)    \n",
    "# 45228"
   ]
  },
  {
   "cell_type": "code",
   "execution_count": 104,
   "metadata": {},
   "outputs": [
    {
     "name": "stdout",
     "output_type": "stream",
     "text": [
      "[[16, 64], [19, 95], [26, 65], [49, 98]]\n",
      "1/100\n"
     ]
    }
   ],
   "source": [
    "# problem 33 - digit cancelling fractions\n",
    "eps = 1e-8\n",
    "\n",
    "dcf = []\n",
    "\n",
    "for p in range(10, 100):\n",
    "    if p % 10 == 0:\n",
    "        continue\n",
    "    tmp1 = str(p)\n",
    "    p1 = int(tmp1[0])\n",
    "    p2 = int(tmp1[1])\n",
    "    for q in range(p+1, 100):\n",
    "        if q % 10 == 0:\n",
    "            continue\n",
    "        tmp2 = str(q)\n",
    "        q1 = int(tmp2[0])\n",
    "        q2 = int(tmp2[1])\n",
    "        if p1 == p2 and q1 == q2:\n",
    "            continue\n",
    "        l = []\n",
    "        if p1 == q2:\n",
    "            l.append(p2/q1)\n",
    "        if p2 == q1:\n",
    "            l.append(p1/q2)\n",
    "        for i in range(len(l)):\n",
    "            if abs(p/q - l[i]) < eps:\n",
    "                dcf.append([p, q])\n",
    "                break\n",
    "\n",
    "numerator = 1\n",
    "denominator = 1\n",
    "\n",
    "for n in dcf:\n",
    "    numerator *= n[0]\n",
    "    denominator *= n[1]\n",
    "\n",
    "ans = nsimplify(numerator/denominator, rational=True)\n",
    "\n",
    "print(dcf)\n",
    "print(ans)"
   ]
  },
  {
   "cell_type": "code",
   "execution_count": 105,
   "metadata": {},
   "outputs": [],
   "source": [
    "from math import factorial"
   ]
  },
  {
   "cell_type": "code",
   "execution_count": 112,
   "metadata": {},
   "outputs": [
    {
     "name": "stdout",
     "output_type": "stream",
     "text": [
      "[145, 40585]\n"
     ]
    },
    {
     "data": {
      "text/plain": [
       "40730"
      ]
     },
     "execution_count": 112,
     "metadata": {},
     "output_type": "execute_result"
    }
   ],
   "source": [
    "# problem 34 - digit factorials\n",
    "\n",
    "ans = []\n",
    "\n",
    "for i in range(10, 100_000):\n",
    "    sm = 0\n",
    "    s = str(i)\n",
    "    for c in s:\n",
    "        sm += factorial(int(c))\n",
    "    if sm == i:\n",
    "        ans.append(i)\n",
    "\n",
    "print(ans)\n",
    "\n",
    "sum(ans)"
   ]
  },
  {
   "cell_type": "code",
   "execution_count": 121,
   "metadata": {},
   "outputs": [
    {
     "name": "stdout",
     "output_type": "stream",
     "text": [
      "[1, 3, 5, 7, 9, 33, 99, 313, 585, 717, 7447, 9009, 15351, 32223, 39993, 53235, 53835, 73737, 585585]\n"
     ]
    },
    {
     "data": {
      "text/plain": [
       "872187"
      ]
     },
     "execution_count": 121,
     "metadata": {},
     "output_type": "execute_result"
    }
   ],
   "source": [
    "# problem 36 - double-base palindromes\n",
    "\n",
    "ans = []\n",
    "\n",
    "for i in range(1_000_001):\n",
    "    a = str(i)\n",
    "    b = bin(i)\n",
    "    b = b[2:]\n",
    "    if i % 10 == 0 or b[-1] == '0':\n",
    "        continue\n",
    "    \n",
    "    bad = False\n",
    "    sz_a = len(a)\n",
    "    for j in range(sz_a//2):\n",
    "        if a[j] != a[-(j+1)]:\n",
    "            bad = True\n",
    "            break\n",
    "    if bad:\n",
    "        continue\n",
    "    \n",
    "    sz_b = len(b)\n",
    "    for j in range(sz_b//2):\n",
    "        if b[j] != b[-(j+1)]:\n",
    "            bad = True\n",
    "            break\n",
    "    \n",
    "    if not bad:\n",
    "        ans.append(i)\n",
    "\n",
    "print(ans)\n",
    "sum(ans)"
   ]
  },
  {
   "cell_type": "code",
   "execution_count": 124,
   "metadata": {},
   "outputs": [
    {
     "name": "stdout",
     "output_type": "stream",
     "text": [
      "134043\n"
     ]
    }
   ],
   "source": [
    "# problem 47 - distinct prime factors\n",
    "# solution from user \"Brian\"\n",
    "\n",
    "Limit = 1000000     # Search under 1 million for now\n",
    "factors = [0]*Limit # number of prime factors.\n",
    "count = 0\n",
    "for i in range(2, Limit):\n",
    "    if factors[i] == 0:\n",
    "        # i is prime\n",
    "        count = 0\n",
    "        val = i\n",
    "        while val < Limit:\n",
    "            factors[val] += 1\n",
    "            val += i\n",
    "    elif factors[i] == 4:\n",
    "        count += 1\n",
    "        if count == 4:\n",
    "            print(i-3) # First number\n",
    "            break\n",
    "    else:\n",
    "        count = 0"
   ]
  },
  {
   "cell_type": "code",
   "execution_count": 15,
   "metadata": {},
   "outputs": [
    {
     "name": "stdout",
     "output_type": "stream",
     "text": [
      "932718654\n"
     ]
    }
   ],
   "source": [
    "# problem 38 - pandigital multiples\n",
    "\n",
    "def is_pandigital(num_str):\n",
    "    if len(num_str) != 9:\n",
    "        return False\n",
    "    st = set(\"0\")\n",
    "    for c in num_str:\n",
    "        st.add(c)\n",
    "    if len(st) == 10:\n",
    "        return True\n",
    "    return False\n",
    "  \n",
    "pd = []\n",
    "\n",
    "for i in range(int(1e5)):\n",
    "    s = str(i)\n",
    "    j = 2\n",
    "    while(len(s) < 10):\n",
    "        s += str(i*j)\n",
    "        if is_pandigital(s):\n",
    "            pd.append(s)\n",
    "            break\n",
    "\n",
    "pd.sort()\n",
    "print(pd[-1])"
   ]
  },
  {
   "cell_type": "code",
   "execution_count": 64,
   "metadata": {},
   "outputs": [
    {
     "name": "stdout",
     "output_type": "stream",
     "text": [
      "Answer: 7652413\n",
      "# of n-digit pandigital primes: 538\n"
     ]
    }
   ],
   "source": [
    "# problem 41 - pandigital prime\n",
    "\n",
    "from itertools import permutations\n",
    "\n",
    "digits = [9, 8, 7, 6, 5, 4, 3, 2, 1]\n",
    "\n",
    "def is_prime(n):\n",
    "    if n <= 1:\n",
    "        return False\n",
    "    if n <= 3:\n",
    "        return True\n",
    "    if n % 2 == 0 or n % 3 == 0:\n",
    "        return False\n",
    "    for i in range(5, int(n**0.5) + 1, 6):\n",
    "        if n % i == 0 or n % (i+2) == 0:\n",
    "            return False\n",
    "    return True\n",
    "\n",
    "ans = []\n",
    "\n",
    "while len(digits) > 1:\n",
    "    pd = permutations(digits)\n",
    "    for l in list(pd):\n",
    "        s = \"\"\n",
    "        for digit in l:\n",
    "            s += str(digit)\n",
    "        if is_prime(int(s)):\n",
    "            ans.append(int(s))\n",
    "    digits = digits[1:]\n",
    "\n",
    "print(f\"Answer: {ans[0]}\\n# of n-digit pandigital primes: {len(ans)}\")"
   ]
  },
  {
   "cell_type": "code",
   "execution_count": 22,
   "metadata": {},
   "outputs": [
    {
     "name": "stdout",
     "output_type": "stream",
     "text": [
      "162\n"
     ]
    }
   ],
   "source": [
    "# problem 42 - coded triangle numbers\n",
    "\n",
    "t_nums = [n*(n+1)//2 for n in range(1, 100)]\n",
    "\n",
    "def is_tword(s):\n",
    "    s = s.lower()\n",
    "    sm = 0\n",
    "    for c in s:\n",
    "        if c == '\\\"':\n",
    "            continue\n",
    "        sm += 1 + ord(c) - ord(\"a\")\n",
    "    return sm in t_nums\n",
    "\n",
    "file = open(\"words.txt\", \"r\")\n",
    "words = file.read().split(\",\")\n",
    "file.close()\n",
    "\n",
    "ans = 0\n",
    "\n",
    "for w in words:\n",
    "    if is_tword(w):\n",
    "        ans += 1\n",
    "\n",
    "print(ans)"
   ]
  },
  {
   "cell_type": "code",
   "execution_count": 25,
   "metadata": {},
   "outputs": [
    {
     "name": "stdout",
     "output_type": "stream",
     "text": [
      "1533776805\n"
     ]
    }
   ],
   "source": [
    "# problem 45 - triangular, pentagonal, and hexagonal\n",
    "\n",
    "N = 100_000\n",
    "tgt = 40_755\n",
    "\n",
    "triangles = [n*(n+1)//2 for n in range(1, N)]\n",
    "pentagonals = [n*(3*n-1)//2 for n in range(1, N)]\n",
    "hexagonals = [n*(2*n-1) for n in range(1, N)]\n",
    "\n",
    "for n in triangles:\n",
    "    if n in pentagonals and n in hexagonals and n > tgt:\n",
    "        print(n)\n",
    "        break"
   ]
  },
  {
   "cell_type": "code",
   "execution_count": 30,
   "metadata": {},
   "outputs": [
    {
     "data": {
      "text/plain": [
       "5482660"
      ]
     },
     "execution_count": 30,
     "metadata": {},
     "output_type": "execute_result"
    }
   ],
   "source": [
    "# problem 44 - pentagon numbers\n",
    "\n",
    "N = 5_000\n",
    "\n",
    "pentagonals = [n*(3*n-1)//2 for n in range(1, N+1)]\n",
    "\n",
    "ans = int(1e18)\n",
    "\n",
    "for i in range(N-1):\n",
    "    for j in range(i+1, N):\n",
    "        sm = pentagonals[i] + pentagonals[j]\n",
    "        d = pentagonals[j] - pentagonals[i]\n",
    "        if sm in pentagonals and d in pentagonals:\n",
    "            ans = min(ans, d)\n",
    "\n",
    "ans\n",
    "# 5482660"
   ]
  },
  {
   "cell_type": "code",
   "execution_count": 32,
   "metadata": {},
   "outputs": [
    {
     "name": "stdout",
     "output_type": "stream",
     "text": [
      "16695334890\n"
     ]
    }
   ],
   "source": [
    "# problem 43 - sub-string divisibililty\n",
    "from itertools import permutations\n",
    "\n",
    "p = [2, 3, 5, 7, 11, 13, 17]\n",
    "\n",
    "prm = list(permutations([0, 1, 2, 3, 4, 5, 6, 7, 8, 9]))\n",
    "\n",
    "ans = 0\n",
    "\n",
    "for n in prm:\n",
    "    good = True\n",
    "    for i in range(1, 8):\n",
    "        s = str(n[i]) + str(n[i+1]) + str(n[i+2])\n",
    "        if int(s) % p[i-1] != 0:\n",
    "            good = False\n",
    "            break\n",
    "    if good:\n",
    "        s = \"\"\n",
    "        for element in n:\n",
    "            s += str(element)\n",
    "        ans += int(s)\n",
    "\n",
    "print(ans)"
   ]
  },
  {
   "cell_type": "code",
   "execution_count": 42,
   "metadata": {},
   "outputs": [
    {
     "name": "stdout",
     "output_type": "stream",
     "text": [
      "142857\n"
     ]
    }
   ],
   "source": [
    "def is_permutation(n, m):\n",
    "    n_str = str(n)\n",
    "    m_str = str(m)\n",
    "    n_l = []\n",
    "    m_l = []\n",
    "    for c in n_str:\n",
    "        n_l.append(int(c))\n",
    "    for c in m_str:\n",
    "        m_l.append(int(c))\n",
    "    n_l.sort()\n",
    "    m_l.sort()\n",
    "    return n_l == m_l\n",
    "\n",
    "N = int(1e6)\n",
    "\n",
    "for i in range(1, N):\n",
    "    found = True\n",
    "    for j in range(6):\n",
    "        if not is_permutation(i, i*(j+1)):\n",
    "            found = False\n",
    "            break\n",
    "    if found:\n",
    "        print(i)\n",
    "        break"
   ]
  },
  {
   "cell_type": "code",
   "execution_count": 52,
   "metadata": {},
   "outputs": [],
   "source": [
    "# problem 54 - poker hands\n",
    "\n",
    "file = open(\"pokerhands.txt\", \"r\")\n",
    "text = file.read().split()\n",
    "file.close()\n",
    "\n",
    "hands = []\n",
    "for i in range(0, len(text), 10):\n",
    "    hand = [[],[]]\n",
    "    for j in range(5):\n",
    "        hand[0].append(text[i+j])\n",
    "    for k in range(5, 10):\n",
    "        hand[1].append(text[i+k])\n",
    "    hands.append(hand)\n",
    "    \n",
    "# Example:\n",
    "# hand[300] => [['8C', 'JC', 'KH', '7C', '7S'], ['6C', 'TS', '2C', 'QD', 'TH']]"
   ]
  },
  {
   "cell_type": "code",
   "execution_count": 75,
   "metadata": {},
   "outputs": [],
   "source": [
    "def get_val(card):\n",
    "    if card[0].isdigit():\n",
    "        return int(card[0])\n",
    "    elif card[0] == 'T':\n",
    "        return 10\n",
    "    elif card[0] == 'J':\n",
    "        return 11\n",
    "    elif card[0] == 'Q':\n",
    "        return 12\n",
    "    elif card[0] == 'K':\n",
    "        return 13\n",
    "    elif card[0] == 'A':\n",
    "        return 14\n",
    "    else:\n",
    "        return \"Error\"\n",
    "    \n",
    "def is_flush(hand):\n",
    "    return hand[0][1]==hand[1][1]==hand[2][1]==hand[3][1]==hand[4][1]\n",
    "\n",
    "def is_straight(hand):\n",
    "    values = []\n",
    "    for card in hand:\n",
    "        values.append(get_val(card))\n",
    "    values.sort()\n",
    "    for i in range(1, len(values)):\n",
    "        if values[i] != values[i-1] + 1:\n",
    "            return False\n",
    "    return True\n",
    "\n",
    "# straight flush - 7\n",
    "# 4-kind - 6\n",
    "# FH - 5\n",
    "# flush - 4\n",
    "# straight - 3\n",
    "# 3-kind - 2\n",
    "# pair - 1\n",
    "# high-card - 0\n",
    "\n",
    "def increment_key(data, key):\n",
    "    data[key] = data.setdefault(key, 0) + 1\n",
    "    \n",
    "def evaluate_hand(hand):\n",
    "    mp = {}\n",
    "    highest = 0\n",
    "    pair = 0\n",
    "    for card in hand:\n",
    "        increment_key(mp, card[0])\n",
    "        highest = max(highest, get_val(card))\n",
    "    if is_flush(hand) and is_straight(hand):\n",
    "        return 7, highest\n",
    "    if len(mp) == 2:\n",
    "        four = False\n",
    "        three = False\n",
    "        two = False\n",
    "        for item in mp:\n",
    "            if mp[item] == 4:\n",
    "                return 6, highest\n",
    "\n",
    "def compare(h1, h2):\n",
    "    "
   ]
  },
  {
   "cell_type": "code",
   "execution_count": 78,
   "metadata": {},
   "outputs": [],
   "source": [
    "for hand in hands:\n",
    "    if is_straight(hand[1]) and is_flush(hand[1]):\n",
    "        print(hand[1])\n",
    "        break"
   ]
  },
  {
   "cell_type": "code",
   "execution_count": 86,
   "metadata": {},
   "outputs": [
    {
     "name": "stdout",
     "output_type": "stream",
     "text": [
      "a 3\n",
      "b 2\n"
     ]
    }
   ],
   "source": [
    "def increment_key(data, key):\n",
    "    data[key] = data.setdefault(key, 0) + 1\n",
    "    \n",
    "m = {}\n",
    "\n",
    "increment_key(m, \"a\")\n",
    "increment_key(m, \"a\")\n",
    "increment_key(m, \"a\")\n",
    "increment_key(m, \"b\")\n",
    "increment_key(m, \"b\")\n",
    "\n",
    "for item in m:\n",
    "    print(item, m[item])"
   ]
  }
 ],
 "metadata": {
  "kernelspec": {
   "display_name": "Python 3",
   "language": "python",
   "name": "python3"
  },
  "language_info": {
   "codemirror_mode": {
    "name": "ipython",
    "version": 3
   },
   "file_extension": ".py",
   "mimetype": "text/x-python",
   "name": "python",
   "nbconvert_exporter": "python",
   "pygments_lexer": "ipython3",
   "version": "3.12.1"
  }
 },
 "nbformat": 4,
 "nbformat_minor": 2
}
